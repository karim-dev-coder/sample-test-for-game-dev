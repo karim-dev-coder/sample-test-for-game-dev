{
  "nbformat": 4,
  "nbformat_minor": 0,
  "metadata": {
    "colab": {
      "provenance": [],
      "authorship_tag": "ABX9TyMKc+qjJVeRrLA7nMCnu0pl",
      "include_colab_link": true
    },
    "kernelspec": {
      "name": "python3",
      "display_name": "Python 3"
    },
    "language_info": {
      "name": "python"
    }
  },
  "cells": [
    {
      "cell_type": "markdown",
      "metadata": {
        "id": "view-in-github",
        "colab_type": "text"
      },
      "source": [
        "<a href=\"https://colab.research.google.com/github/karim-dev-coder/sample-test-for-game-dev/blob/main/2_Virtual_metro_problem.ipynb\" target=\"_parent\"><img src=\"https://colab.research.google.com/assets/colab-badge.svg\" alt=\"Open In Colab\"/></a>"
      ]
    },
    {
      "cell_type": "code",
      "execution_count": 1,
      "metadata": {
        "id": "SO7GcC05IgUP"
      },
      "outputs": [],
      "source": [
        "import networkx as nx\n",
        "import matplotlib.pyplot as plt"
      ]
    },
    {
      "cell_type": "markdown",
      "source": [
        "# Блокнот для поиска пути и количество пересадок для метро в виртуальном городе\n",
        "Блокнот содержит визуализаци, алгоритмы расчета, кастомный алгоритм Дейкстры и проверку логику через тесты"
      ],
      "metadata": {
        "id": "E43hJ-18IxpA"
      }
    },
    {
      "cell_type": "markdown",
      "source": [
        "# Конфигурируем граф для расчета Дейкстры через networkx\n",
        "Граф понадобится для визуализации и для проверки кастомного алгоритма Дейкстры"
      ],
      "metadata": {
        "id": "-kbuUdBzIz_c"
      }
    },
    {
      "cell_type": "code",
      "source": [
        "graph_dict = {\n",
        "    # Красная ветка\n",
        "    'A': ['B'],\n",
        "    'B': ['C', 'H'],\n",
        "    'C': ['D', 'J'],\n",
        "    'D': ['E', 'J'],\n",
        "    'E': ['F', 'M'],\n",
        "    'F': ['G'],\n",
        "    # Зеленая ветка\n",
        "    'J': ['E', 'O', 'F'],\n",
        "    'K': ['C'],\n",
        "    'L': ['K', 'D'],\n",
        "    'M': ['L'],\n",
        "    # Синяя ветка\n",
        "    'N' : ['L'],\n",
        "    'O' : [],\n",
        "    # Черная линия\n",
        "    'H': ['J'],\n",
        "    'G': []\n",
        "}\n",
        "\n",
        "# Создание графа\n",
        "metro_graph = nx.Graph(graph_dict)\n",
        "\n",
        "# Добавление красной ветки метро\n",
        "node_colors = {'A': 'red', 'B': 'red', 'C': 'red', 'D': 'red', 'E': 'red', 'F': 'red'}\n",
        "edge_colors = {('A', 'B'): 'red', ('B', 'C'): 'red', ('C', 'D'): 'red', ('D', 'E'): 'red', ('E', 'F'): 'red'}\n",
        "\n",
        "# Добавление зеленой ветки метро\n",
        "node_colors.update({'C': 'green', 'K': 'green', 'J': 'green', 'E': 'green', 'M': 'green', 'L': 'green'})\n",
        "edge_colors.update({('C', 'K'): 'green', ('C', 'J'): 'green', ('E', 'J'): 'green', ('E', 'M'): 'green', ('L', 'M'): 'green', ('K', 'L'): 'green'})\n",
        "\n",
        "# Добавление синей ветки метро\n",
        "node_colors.update({'N': 'blue', 'O': 'blue'})\n",
        "edge_colors.update({('L', 'N'): 'blue', ('D', 'L'): 'blue', ('D', 'J'): 'blue', ('J', 'O'): 'blue'})\n",
        "\n",
        "# Добавление черной ветки метро\n",
        "node_colors.update({'H': 'grey', 'G': 'grey'})\n",
        "edge_colors.update({('B', 'H'): 'black', ('J', 'H'): 'black', ('F', 'J'): 'black', ('F', 'G'): 'black'})\n",
        "\n",
        "# Визуализация графа с раскраской\n",
        "pos = nx.spring_layout(metro_graph, seed=27)\n",
        "nx.draw_networkx_nodes(metro_graph, pos, node_color=[node_colors[n] for n in metro_graph.nodes()])\n",
        "nx.draw_networkx_edges(metro_graph, pos, edge_color=[edge_colors[e] for e in metro_graph.edges()])\n",
        "nx.draw_networkx_labels(metro_graph, pos)\n",
        "plt.axis('off')\n",
        "plt.show()"
      ],
      "metadata": {
        "colab": {
          "base_uri": "https://localhost:8080/",
          "height": 248
        },
        "id": "BaUgz1XTIvDl",
        "outputId": "64e4e9f4-5db4-4eda-d375-6ed162ffb340"
      },
      "execution_count": 2,
      "outputs": [
        {
          "output_type": "display_data",
          "data": {
            "text/plain": [
              "<Figure size 432x288 with 1 Axes>"
            ],
            "image/png": "[encoded data removed]"
          },
          "metadata": {}
        }
      ]
    },
    {
      "cell_type": "markdown",
      "source": [
        "Логика, которая считает количество пересадок по найденному пути"
      ],
      "metadata": {
        "id": "TILfucapI9X4"
      }
    },
    {
      "cell_type": "code",
      "source": [
        "# Словарь для расчета пересадок\n",
        "metro = {\n",
        "    'red_line': ['A', 'B', 'C', 'D', 'E'],\n",
        "    'green_line': ['C', 'J', 'E', 'M', 'L', 'K'],\n",
        "    'blue_line': ['N', 'L', 'D', 'J', 'O'],\n",
        "    'black_line': ['B', 'H', 'G', 'F', 'G']\n",
        "    }"
      ],
      "metadata": {
        "id": "m6u1yNdbI_b8"
      },
      "execution_count": 3,
      "outputs": []
    },
    {
      "cell_type": "code",
      "source": [
        "# Считаем пересадки, которые нужно совершить, чтобы проехать по пути path.\n",
        "def calculate_needed_transfer(path, metro):\n",
        "  line_transfers = []\n",
        "  transfers_on_path = list(zip(path[:-1], path[1:]))\n",
        "  for transfer in transfers_on_path:\n",
        "    line = get_common_line(transfer, metro)\n",
        "\n",
        "    if line_transfers == []:\n",
        "      line_transfers.append(line)\n",
        "      continue\n",
        "\n",
        "    if line_transfers[-1] != line:\n",
        "      line_transfers.append(line)\n",
        "  \n",
        "  return line_transfers"
      ],
      "metadata": {
        "id": "1nieHRJrJCZU"
      },
      "execution_count": 4,
      "outputs": []
    },
    {
      "cell_type": "code",
      "source": [
        "# Нахожим общую линию, через которую можно совершить трансфер с точки А до Б.\n",
        "def get_common_line(transfer, metro):\n",
        "  a_station_lines = get_lines_belongs_station(transfer[0], metro)\n",
        "  b_station_lines = get_lines_belongs_station(transfer[1], metro)\n",
        "\n",
        "  # Находим общие линию для двух смежных станций\n",
        "  setStation = set(a_station_lines) & set(b_station_lines)\n",
        "  return ''.join(setStation)"
      ],
      "metadata": {
        "id": "DybiCgrVJEks"
      },
      "execution_count": 5,
      "outputs": []
    },
    {
      "cell_type": "code",
      "source": [
        "# Берем количество линий на которых расположена станция\n",
        "def get_lines_belongs_station(station, metro):\n",
        "  belong_lines = []\n",
        "  for line in metro:\n",
        "    if station in metro[line]:\n",
        "      belong_lines.append(line)\n",
        "\n",
        "  return belong_lines"
      ],
      "metadata": {
        "id": "x7LiznSYJE-F"
      },
      "execution_count": 6,
      "outputs": []
    },
    {
      "cell_type": "markdown",
      "source": [
        "# Алгоритм Дейкстры\n",
        "Проверяется по тестам ниже"
      ],
      "metadata": {
        "id": "CSXYOceqJIyA"
      }
    },
    {
      "cell_type": "code",
      "source": [
        "from collections import deque\n",
        "\n",
        "def bfs_shortest_path(graph, start, end):\n",
        "    # Создаем словарь, в котором будем хранить посещенные вершины и предыдущую вершину на пути от start до данной вершины.\n",
        "    visited = {start: None}\n",
        "    # Создаем очередь, в которую будем помещать вершины для обхода.\n",
        "    queue = deque([start])\n",
        "    # Проходим по очереди, пока она не опустеет.\n",
        "    while queue:\n",
        "        # Извлекаем из очереди первую вершину.\n",
        "        current_node = queue.popleft()\n",
        "        # Если достигли конечной вершины, то выходим из цикла.\n",
        "        if current_node == end:\n",
        "            break\n",
        "        # Проходим по всем соседним вершинам текущей вершины.\n",
        "        for neighbor in graph[current_node]:\n",
        "            # Если соседняя вершина еще не посещена, то помечаем ее как посещенную и добавляем в очередь.\n",
        "            if neighbor not in visited:\n",
        "                visited[neighbor] = current_node\n",
        "                queue.append(neighbor)\n",
        "    # Если конечная вершина не найдена, то возвращаем None.\n",
        "    if end not in visited:\n",
        "        return None\n",
        "    # В противном случае восстанавливаем путь от end до start и возвращаем его.\n",
        "    path = []\n",
        "    current_node = end\n",
        "    while current_node is not None:\n",
        "        path.append(current_node)\n",
        "        current_node = visited[current_node]\n",
        "    path.reverse()\n",
        "    return path\n"
      ],
      "metadata": {
        "id": "T1CvYm7wJJfl"
      },
      "execution_count": 7,
      "outputs": []
    },
    {
      "cell_type": "markdown",
      "source": [
        "# Тесты\n",
        "Сначала проверяем тест кейсы по алгоритму networkx\n",
        "Потом проверяем кастомный алгоритм дейкстры по тест кейсам"
      ],
      "metadata": {
        "id": "j7s2E6KiJNvd"
      }
    },
    {
      "cell_type": "code",
      "source": [
        "class ExpectedResult:\n",
        "  def __init__(self, path, transfers_count):\n",
        "    self.path = path\n",
        "    self.transfers_count = transfers_count\n",
        "\n",
        "class TestCase:\n",
        "  def __init__(self, start, end, expected):\n",
        "    self.start = start\n",
        "    self.end = end\n",
        "    self.expected = expected\n",
        "  \n",
        "  def get_name(self):\n",
        "    return 'from ' + self.start + ' to ' + self.end"
      ],
      "metadata": {
        "id": "foQq6IudJKsk"
      },
      "execution_count": 8,
      "outputs": []
    },
    {
      "cell_type": "code",
      "source": [
        "def execute_networkx_test(test, networkx, metro, graph_dict):\n",
        "  metro_graph = nx.Graph(graph_dict)\n",
        "\n",
        "  path = networkx.dijkstra_path(metro_graph, source=test.start, target=test.end)\n",
        "  \n",
        "  transfers = calculate_needed_transfer(path, metro)\n",
        "  transfers_count_without_start_landing = len(transfers) - 1\n",
        "\n",
        "  if path != test.expected.path:\n",
        "    raise Exception(test.get_name() + ' is failed!. Expected path: [' + ' '.join(test.expected.path) + '], but was [' + ' '.join(path) + ']')\n",
        "\n",
        "  if transfers_count_without_start_landing != test.expected.transfers_count:\n",
        "    raise Exception(test.get_name() + ' is failed!. Expected transfer count: ' + str(test.expected.transfers_count) + ', but was ' + str(transfers_count_without_start_landing))"
      ],
      "metadata": {
        "id": "PBZMpOM9JMot"
      },
      "execution_count": 9,
      "outputs": []
    },
    {
      "cell_type": "code",
      "source": [
        "def execute_custom_algorithm_test(test, metro, graph_dict):\n",
        "\n",
        "  path = bfs_shortest_path(graph_dict, test.start, test.end)\n",
        "\n",
        "  transfers = calculate_needed_transfer(path, metro)\n",
        "  transfers_count_without_start_landing = len(transfers) - 1\n",
        "\n",
        "  if path != test.expected.path:\n",
        "    raise Exception(test.get_name() + ' is failed!. Expected path: [' + ' '.join(test.expected.path) + '], but was [' + ' '.join(path) + ']')\n",
        "\n",
        "  if transfers_count_without_start_landing != test.expected.transfers_count:\n",
        "    raise Exception(test.get_name() + ' is failed!. Expected transfer count: ' + str(test.expected.transfers_count) + ', but was ' + str(transfers_count_without_start_landing))"
      ],
      "metadata": {
        "id": "nITRnUhwJSut"
      },
      "execution_count": 10,
      "outputs": []
    },
    {
      "cell_type": "code",
      "source": [
        "# Добавляйте сюда тест кейсы. Я хотел использовать это для написания своего алгоритма, но потом писать алгоритм передумал.\n",
        "tests = [\n",
        "    TestCase('C', 'L', ExpectedResult(['C', 'D', 'L'], 1)),\n",
        "    TestCase('A', 'M', ExpectedResult(['A', 'B', 'C', 'D', 'E', 'M'], 1)),\n",
        "    TestCase('B', 'N', ExpectedResult(['B', 'C', 'D', 'L', 'N'], 1)),\n",
        "    TestCase('D', 'O', ExpectedResult(['D', 'J', 'O'], 0)),\n",
        "    TestCase('H', 'K', ExpectedResult(['H', 'B', 'C', 'K'], 2)),\n",
        "    TestCase('J', 'B', ExpectedResult(['J', 'C', 'B'], 1))\n",
        "    ]\n",
        "\n",
        "for test in tests:\n",
        "  execute_networkx_test(test, nx, metro, graph_dict)\n",
        "  print(test.get_name() + ' is success with networkx dejkstra')\n",
        "\n",
        "  # execute_custom_algorithm_test(test, metro, graph_dict)\n",
        "  # print(test.get_name() + ' is success with my dejkstra algorithm')\n",
        "\n",
        "print('All tests is success!')"
      ],
      "metadata": {
        "colab": {
          "base_uri": "https://localhost:8080/"
        },
        "id": "X0ymv8KHJUot",
        "outputId": "506f971c-1c11-4da2-ddf7-084329f7d49c"
      },
      "execution_count": 12,
      "outputs": [
        {
          "output_type": "stream",
          "name": "stdout",
          "text": [
            "from C to L is success with networkx dejkstra\n",
            "from A to M is success with networkx dejkstra\n",
            "from B to N is success with networkx dejkstra\n",
            "from D to O is success with networkx dejkstra\n",
            "from H to K is success with networkx dejkstra\n",
            "from J to B is success with networkx dejkstra\n",
            "All tests is success!\n"
          ]
        }
      ]
    },
    {
      "cell_type": "code",
      "source": [],
      "metadata": {
        "id": "KRTGVcDfJV_O"
      },
      "execution_count": null,
      "outputs": []
    }
  ]
}